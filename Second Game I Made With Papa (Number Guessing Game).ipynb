{
 "cells": [
  {
   "cell_type": "code",
   "execution_count": null,
   "metadata": {},
   "outputs": [],
   "source": [
    "def game_toss():\n",
    "    import random as rd\n",
    "    goal = rd.randint(0,2)\n",
    "    if goal == 1:\n",
    "        toss = 'Tails'\n",
    "    else: \n",
    "        toss = 'Heads'\n",
    "    sel = input('Choose Heads or Tails')\n",
    "    if toss == sel:\n",
    "        print('You Win')\n",
    "        selection = input('Do You Want To Bat Or Bowl?')\n",
    "        if selection == 'Bat':\n",
    "            print('You Are Batting First')\n",
    "        else:\n",
    "            print('You Are Bowling First')\n",
    "    else:\n",
    "        print('You Loss The Toss, Sad Life Loser')\n"
   ]
  },
  {
   "cell_type": "code",
   "execution_count": 1,
   "metadata": {},
   "outputs": [],
   "source": [
    "import os"
   ]
  },
  {
   "cell_type": "code",
   "execution_count": 61,
   "metadata": {},
   "outputs": [],
   "source": [
    "\n",
    "\n",
    "def guess_num():\n",
    "    import random as rd\n",
    "    goal = rd.randint(0,20)\n",
    "    num = int(input('Choose A Number Between 0 And 20 '))\n",
    "    if goal == num:\n",
    "        print('Your Guess Is Right. \\n You Win!!!')\n",
    "        print(goal)\n",
    "    elif goal > num:\n",
    "        d = goal - num\n",
    "        #print(goal-num)\n",
    "        print(f'The Goal And The Number Differ By {d}')\n",
    "        print(goal)\n",
    "        #num = int(input('Choose A Number Between 0 And 100.'))\n",
    "    else:\n",
    "        d = num - goal\n",
    "        #print(num - goal )\n",
    "        print(f'The Goal And The Number Differ By {d}')\n",
    "        print(f'The Number Was {goal}')\n",
    "        #num = int(input('Choose A Number Between 0 And 100.'))\n"
   ]
  },
  {
   "cell_type": "code",
   "execution_count": 4,
   "metadata": {},
   "outputs": [
    {
     "data": {
      "text/plain": [
       "'C:\\\\Users\\\\AkshS'"
      ]
     },
     "execution_count": 4,
     "metadata": {},
     "output_type": "execute_result"
    }
   ],
   "source": [
    "os.getcwd()"
   ]
  },
  {
   "cell_type": "code",
   "execution_count": 62,
   "metadata": {},
   "outputs": [
    {
     "name": "stdout",
     "output_type": "stream",
     "text": [
      "Choose A Number Between 0 And 20 17\n",
      "The Goal And The Number Differ By 17\n",
      "The Number Was 0\n"
     ]
    }
   ],
   "source": [
    "guess_num()"
   ]
  },
  {
   "cell_type": "markdown",
   "metadata": {},
   "source": [
    "#### "
   ]
  }
 ],
 "metadata": {
  "kernelspec": {
   "display_name": "Python 3",
   "language": "python",
   "name": "python3"
  },
  "language_info": {
   "codemirror_mode": {
    "name": "ipython",
    "version": 3
   },
   "file_extension": ".py",
   "mimetype": "text/x-python",
   "name": "python",
   "nbconvert_exporter": "python",
   "pygments_lexer": "ipython3",
   "version": "3.7.4"
  }
 },
 "nbformat": 4,
 "nbformat_minor": 2
}
